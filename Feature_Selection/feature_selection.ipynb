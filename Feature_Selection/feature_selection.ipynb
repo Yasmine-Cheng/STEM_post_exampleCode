{
  "nbformat": 4,
  "nbformat_minor": 0,
  "metadata": {
    "colab": {
      "name": "feature_selection.ipynb",
      "provenance": [],
      "collapsed_sections": []
    },
    "kernelspec": {
      "name": "python3",
      "display_name": "Python 3"
    },
    "language_info": {
      "name": "python"
    }
  },
  "cells": [
    {
      "cell_type": "markdown",
      "source": [
        "### VarianceThreshold"
      ],
      "metadata": {
        "id": "Q9O4hplPA_kG"
      }
    },
    {
      "cell_type": "code",
      "execution_count": 14,
      "metadata": {
        "colab": {
          "base_uri": "https://localhost:8080/"
        },
        "id": "xaKroHpX3YTS",
        "outputId": "0110682d-98d0-4dac-8195-22e57c41f282"
      },
      "outputs": [
        {
          "output_type": "stream",
          "name": "stdout",
          "text": [
            "[[0 0 1]\n",
            " [0 1 0]\n",
            " [1 0 0]\n",
            " [0 1 1]\n",
            " [0 1 0]\n",
            " [0 1 1]]\n"
          ]
        }
      ],
      "source": [
        "import numpy as np\n",
        "\n",
        "# 宣告X變數為6*3的向量\n",
        "X = np.array([[0, 0, 1], \n",
        "              [0, 1, 0], \n",
        "              [1, 0, 0], \n",
        "              [0, 1, 1], \n",
        "              [0, 1, 0], \n",
        "              [0, 1, 1]])\n",
        "print(X)"
      ]
    },
    {
      "cell_type": "code",
      "source": [
        "# 計算出X向量各直行的變異數\n",
        "np.var(X, axis=0)"
      ],
      "metadata": {
        "colab": {
          "base_uri": "https://localhost:8080/"
        },
        "id": "O2bKNoTIANRd",
        "outputId": "dfe5443c-3f13-4e8c-9dd5-157f2021bb5f"
      },
      "execution_count": 11,
      "outputs": [
        {
          "output_type": "execute_result",
          "data": {
            "text/plain": [
              "array([0.13888889, 0.22222222, 0.25      ])"
            ]
          },
          "metadata": {},
          "execution_count": 11
        }
      ]
    },
    {
      "cell_type": "code",
      "source": [
        "from sklearn.feature_selection import VarianceThreshold\n",
        "\n",
        "# 設定只保留各直行中變異數大於.8*.2的元素\n",
        "sel = VarianceThreshold(threshold=(.8 * (1 - .8)))\n",
        "# 因第一行的元素為約.14\n",
        "# 理當小於閥值threshold.16\n",
        "# 因此去除該直行\n",
        "sel.fit_transform(X)"
      ],
      "metadata": {
        "colab": {
          "base_uri": "https://localhost:8080/"
        },
        "id": "LJR1ebMiAPcX",
        "outputId": "0419cf81-ee10-424c-e1bb-9df8f1068c0b"
      },
      "execution_count": 12,
      "outputs": [
        {
          "output_type": "execute_result",
          "data": {
            "text/plain": [
              "array([[0, 1],\n",
              "       [1, 0],\n",
              "       [0, 0],\n",
              "       [1, 1],\n",
              "       [1, 0],\n",
              "       [1, 1]])"
            ]
          },
          "metadata": {},
          "execution_count": 12
        }
      ]
    }
  ]
}