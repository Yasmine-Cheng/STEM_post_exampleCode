{
  "nbformat": 4,
  "nbformat_minor": 0,
  "metadata": {
    "colab": {
      "name": "feature_selection.ipynb",
      "provenance": [],
      "collapsed_sections": []
    },
    "kernelspec": {
      "name": "python3",
      "display_name": "Python 3"
    },
    "language_info": {
      "name": "python"
    }
  },
  "cells": [
    {
      "cell_type": "markdown",
      "source": [
        "### VarianceThreshold"
      ],
      "metadata": {
        "id": "Q9O4hplPA_kG"
      }
    },
    {
      "cell_type": "code",
      "execution_count": 2,
      "metadata": {
        "colab": {
          "base_uri": "https://localhost:8080/"
        },
        "id": "xaKroHpX3YTS",
        "outputId": "c41c432f-df68-4eee-b48c-d72d13e24d90"
      },
      "outputs": [
        {
          "output_type": "stream",
          "name": "stdout",
          "text": [
            "[[0 0 1]\n",
            " [0 1 0]\n",
            " [1 0 0]\n",
            " [0 1 1]\n",
            " [0 1 0]\n",
            " [0 1 1]]\n"
          ]
        }
      ],
      "source": [
        "import numpy as np\n",
        "\n",
        "# 宣告X變數為6*3的向量\n",
        "X = np.array([[0, 0, 1], \n",
        "              [0, 1, 0], \n",
        "              [1, 0, 0], \n",
        "              [0, 1, 1], \n",
        "              [0, 1, 0], \n",
        "              [0, 1, 1]])\n",
        "print(X)"
      ]
    },
    {
      "cell_type": "code",
      "source": [
        "# 計算出X向量各直行的變異數\n",
        "np.var(X, axis=0)"
      ],
      "metadata": {
        "colab": {
          "base_uri": "https://localhost:8080/"
        },
        "id": "O2bKNoTIANRd",
        "outputId": "cee3027f-5c99-4685-8d66-4742e89d498b"
      },
      "execution_count": 3,
      "outputs": [
        {
          "output_type": "execute_result",
          "data": {
            "text/plain": [
              "array([0.13888889, 0.22222222, 0.25      ])"
            ]
          },
          "metadata": {},
          "execution_count": 3
        }
      ]
    },
    {
      "cell_type": "code",
      "source": [
        "from sklearn.feature_selection import VarianceThreshold\n",
        "\n",
        "# 設定只保留各直行中變異數大於.8*.2的元素\n",
        "sel = VarianceThreshold(threshold=(.8 * (1 - .8)))\n",
        "# 因第一行的元素為約.14\n",
        "# 理當小於閥值threshold.16\n",
        "# 因此去除該直行\n",
        "sel.fit_transform(X)"
      ],
      "metadata": {
        "colab": {
          "base_uri": "https://localhost:8080/"
        },
        "id": "LJR1ebMiAPcX",
        "outputId": "8cf885ea-c61e-45ea-cc9c-8328295b2424"
      },
      "execution_count": 4,
      "outputs": [
        {
          "output_type": "execute_result",
          "data": {
            "text/plain": [
              "array([[0, 1],\n",
              "       [1, 0],\n",
              "       [0, 0],\n",
              "       [1, 1],\n",
              "       [1, 0],\n",
              "       [1, 1]])"
            ]
          },
          "metadata": {},
          "execution_count": 4
        }
      ]
    },
    {
      "cell_type": "markdown",
      "source": [
        "\n",
        "\n",
        "---\n",
        "\n",
        "\n",
        "\n",
        "---\n",
        "\n",
        "\n",
        "\n",
        "---\n",
        "\n"
      ],
      "metadata": {
        "id": "0AEE9KlOZxcS"
      }
    },
    {
      "cell_type": "markdown",
      "source": [
        "### RFE"
      ],
      "metadata": {
        "id": "DMngvPmwZzsn"
      }
    },
    {
      "cell_type": "code",
      "source": [
        "from sklearn.datasets import load_boston\n",
        "from sklearn.ensemble import RandomForestRegressor\n",
        "\n",
        "import warnings\n",
        "warnings.simplefilter(\"ignore\")\n",
        "\n",
        "boston = load_boston()\n",
        "X = boston['data']\n",
        "y = boston['target']\n",
        "names = boston['feature_names']\n",
        "\n",
        "rf = RandomForestRegressor()\n",
        "rf.fit(X, y)\n",
        "\n",
        "print('Features importance:\\n')\n",
        "\n",
        "for name, importance in sorted(zip(map(lambda x: round(x, 4), rf.feature_importances_), names), reverse=True):\n",
        "    print(name, importance)"
      ],
      "metadata": {
        "colab": {
          "base_uri": "https://localhost:8080/"
        },
        "id": "uaZXVDVhZx9v",
        "outputId": "9810047d-c9fd-4292-e25e-3bfd125b1c5d"
      },
      "execution_count": 14,
      "outputs": [
        {
          "output_type": "stream",
          "name": "stdout",
          "text": [
            "Features importance:\n",
            "\n",
            "0.4212 RM\n",
            "0.3791 LSTAT\n",
            "0.0683 DIS\n",
            "0.0419 CRIM\n",
            "0.0222 NOX\n",
            "0.0185 PTRATIO\n",
            "0.0138 TAX\n",
            "0.0129 AGE\n",
            "0.0111 B\n",
            "0.0059 INDUS\n",
            "0.0033 RAD\n",
            "0.001 ZN\n",
            "0.0008 CHAS\n"
          ]
        }
      ]
    }
  ]
}