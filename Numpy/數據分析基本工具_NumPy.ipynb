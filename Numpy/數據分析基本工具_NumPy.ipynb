{
  "nbformat": 4,
  "nbformat_minor": 0,
  "metadata": {
    "colab": {
      "name": "數據分析基本工具-NumPy.ipynb",
      "provenance": [],
      "collapsed_sections": []
    },
    "kernelspec": {
      "name": "python3",
      "display_name": "Python 3"
    },
    "language_info": {
      "name": "python"
    }
  },
  "cells": [
    {
      "cell_type": "markdown",
      "source": [
        "### 準備程序"
      ],
      "metadata": {
        "id": "MjpzUC_a_NoE"
      }
    },
    {
      "cell_type": "code",
      "execution_count": null,
      "metadata": {
        "colab": {
          "base_uri": "https://localhost:8080/"
        },
        "id": "ySEKD8gWzRdl",
        "outputId": "22c50344-0458-4d8b-d929-92d8e9155201"
      },
      "outputs": [
        {
          "output_type": "stream",
          "name": "stdout",
          "text": [
            "Requirement already satisfied: numpy in /usr/local/lib/python3.7/dist-packages (1.21.5)\n"
          ]
        }
      ],
      "source": [
        "# 安裝套件\n",
        "### conda\n",
        "# conda install numpy\n",
        "### pip\n",
        "!pip install numpy"
      ]
    },
    {
      "cell_type": "code",
      "source": [
        "# 引入套件\n",
        "import numpy as np"
      ],
      "metadata": {
        "id": "qBPUoLU1_fXF"
      },
      "execution_count": null,
      "outputs": []
    },
    {
      "cell_type": "markdown",
      "source": [
        "### 查看資訊"
      ],
      "metadata": {
        "id": "4jQhonyEj79l"
      }
    },
    {
      "cell_type": "code",
      "source": [
        "# 顯示維度\n",
        "tmp =  np.array([[1, 2, 3], [4, 5, 6]])\n",
        "print(tmp.ndim)"
      ],
      "metadata": {
        "colab": {
          "base_uri": "https://localhost:8080/"
        },
        "id": "VRtwmc74j_dh",
        "outputId": "71cfbe44-0517-4df0-d1a1-ea746be466e0"
      },
      "execution_count": null,
      "outputs": [
        {
          "output_type": "stream",
          "name": "stdout",
          "text": [
            "2\n"
          ]
        }
      ]
    },
    {
      "cell_type": "code",
      "source": [
        "# 顯示形狀\n",
        "print(tmp.shape)"
      ],
      "metadata": {
        "colab": {
          "base_uri": "https://localhost:8080/"
        },
        "id": "1EY2ceLZj_fQ",
        "outputId": "2e5bdb8d-43f1-4346-92df-06e1131b1114"
      },
      "execution_count": null,
      "outputs": [
        {
          "output_type": "stream",
          "name": "stdout",
          "text": [
            "(2, 3)\n"
          ]
        }
      ]
    },
    {
      "cell_type": "code",
      "source": [
        "# 顯示資料型態\n",
        "print(tmp.dtype)"
      ],
      "metadata": {
        "colab": {
          "base_uri": "https://localhost:8080/"
        },
        "id": "ox47n8quj_i-",
        "outputId": "6c4f4ac0-09fb-4cab-a2bf-3910de70f1da"
      },
      "execution_count": null,
      "outputs": [
        {
          "output_type": "stream",
          "name": "stdout",
          "text": [
            "int64\n"
          ]
        }
      ]
    },
    {
      "cell_type": "code",
      "source": [
        "# 顯示元素總數\n",
        "print(tmp.size)"
      ],
      "metadata": {
        "colab": {
          "base_uri": "https://localhost:8080/"
        },
        "id": "qSCRj7NZj_kh",
        "outputId": "5030e265-c10c-4904-82ce-915a333a98a0"
      },
      "execution_count": null,
      "outputs": [
        {
          "output_type": "stream",
          "name": "stdout",
          "text": [
            "6\n"
          ]
        }
      ]
    },
    {
      "cell_type": "markdown",
      "source": [
        "### 建立陣列"
      ],
      "metadata": {
        "id": "wR9ZwDzl_lEs"
      }
    },
    {
      "cell_type": "code",
      "source": [
        "# 建立一維陣列\n",
        "np.array([1, 2, 3])"
      ],
      "metadata": {
        "colab": {
          "base_uri": "https://localhost:8080/"
        },
        "id": "YlekwbwX-egS",
        "outputId": "60bfcb66-47cb-4fd6-8e81-059102ed9f91"
      },
      "execution_count": null,
      "outputs": [
        {
          "output_type": "execute_result",
          "data": {
            "text/plain": [
              "array([1, 2, 3])"
            ]
          },
          "metadata": {},
          "execution_count": 7
        }
      ]
    },
    {
      "cell_type": "code",
      "source": [
        "# 建立二維陣列\n",
        "np.array([[1, 2, 3], [4, 5, 6]])"
      ],
      "metadata": {
        "colab": {
          "base_uri": "https://localhost:8080/"
        },
        "id": "8rJdmGuSAXx2",
        "outputId": "81b55198-c771-461e-ac80-c9b9b8b84503"
      },
      "execution_count": null,
      "outputs": [
        {
          "output_type": "execute_result",
          "data": {
            "text/plain": [
              "array([[1, 2, 3],\n",
              "       [4, 5, 6]])"
            ]
          },
          "metadata": {},
          "execution_count": 8
        }
      ]
    },
    {
      "cell_type": "code",
      "source": [
        "# 建立1~10(不包含10)，間隔為2的陣列，跟range()的概念一樣\n",
        "np.arange(1, 10, 2)"
      ],
      "metadata": {
        "colab": {
          "base_uri": "https://localhost:8080/"
        },
        "id": "ypzQG0I5A4Fn",
        "outputId": "9828f4d1-71de-4eec-eacf-58dc290bea35"
      },
      "execution_count": null,
      "outputs": [
        {
          "output_type": "execute_result",
          "data": {
            "text/plain": [
              "array([1, 3, 5, 7, 9])"
            ]
          },
          "metadata": {},
          "execution_count": 9
        }
      ]
    },
    {
      "cell_type": "code",
      "source": [
        "# 建立元素總數為5的0~4等差數列\n",
        "np.linspace(0,4,5)"
      ],
      "metadata": {
        "colab": {
          "base_uri": "https://localhost:8080/"
        },
        "id": "dcrxgHWZK7kL",
        "outputId": "7973e285-d5bb-4106-efdd-9ee7847b93cc"
      },
      "execution_count": null,
      "outputs": [
        {
          "output_type": "execute_result",
          "data": {
            "text/plain": [
              "array([0., 1., 2., 3., 4.])"
            ]
          },
          "metadata": {},
          "execution_count": 10
        }
      ]
    },
    {
      "cell_type": "code",
      "source": [
        "# 建立陣列元素個別連續重複的新陣列\n",
        "np.repeat([1, 2], 2)"
      ],
      "metadata": {
        "colab": {
          "base_uri": "https://localhost:8080/"
        },
        "id": "Y3SX0dumSIlu",
        "outputId": "bffd870b-a328-49c1-9d8b-fb35ee667b8c"
      },
      "execution_count": null,
      "outputs": [
        {
          "output_type": "execute_result",
          "data": {
            "text/plain": [
              "array([1, 1, 2, 2])"
            ]
          },
          "metadata": {},
          "execution_count": 11
        }
      ]
    },
    {
      "cell_type": "code",
      "source": [
        "# 建立陣列連續重複的新陣列\n",
        "np.tile([1, 2], 2)"
      ],
      "metadata": {
        "colab": {
          "base_uri": "https://localhost:8080/"
        },
        "id": "zWEkPIuiUlSW",
        "outputId": "e3cf668f-f2a0-49cb-fe2d-f7fb21452125"
      },
      "execution_count": null,
      "outputs": [
        {
          "output_type": "execute_result",
          "data": {
            "text/plain": [
              "array([1, 2, 1, 2])"
            ]
          },
          "metadata": {},
          "execution_count": 12
        }
      ]
    },
    {
      "cell_type": "code",
      "source": [
        "# 建立全部元素皆為0的陣列\n",
        "np.zeros((2,3))"
      ],
      "metadata": {
        "colab": {
          "base_uri": "https://localhost:8080/"
        },
        "id": "MceCED_HUqWy",
        "outputId": "adfa7c82-fda7-45ad-ae07-470e3a74e46f"
      },
      "execution_count": null,
      "outputs": [
        {
          "output_type": "execute_result",
          "data": {
            "text/plain": [
              "array([[0., 0., 0.],\n",
              "       [0., 0., 0.]])"
            ]
          },
          "metadata": {},
          "execution_count": 13
        }
      ]
    },
    {
      "cell_type": "code",
      "source": [
        "# 建立全部元素皆為1的陣列\n",
        "np.ones((2,3))"
      ],
      "metadata": {
        "colab": {
          "base_uri": "https://localhost:8080/"
        },
        "id": "Ik4o3Hk3U21u",
        "outputId": "d0479750-2502-4941-a55e-80de823cd6b2"
      },
      "execution_count": null,
      "outputs": [
        {
          "output_type": "execute_result",
          "data": {
            "text/plain": [
              "array([[1., 1., 1.],\n",
              "       [1., 1., 1.]])"
            ]
          },
          "metadata": {},
          "execution_count": 14
        }
      ]
    },
    {
      "cell_type": "code",
      "source": [
        "# 建立全部元素皆為5的陣列\n",
        "np.ones((2,3))*5"
      ],
      "metadata": {
        "colab": {
          "base_uri": "https://localhost:8080/"
        },
        "id": "_tYo_96NU6hk",
        "outputId": "cdf80802-2fd8-44b4-ea6c-bfb264424c1b"
      },
      "execution_count": null,
      "outputs": [
        {
          "output_type": "execute_result",
          "data": {
            "text/plain": [
              "array([[5., 5., 5.],\n",
              "       [5., 5., 5.]])"
            ]
          },
          "metadata": {},
          "execution_count": 15
        }
      ]
    },
    {
      "cell_type": "code",
      "source": [
        "# 建立全部元素皆為5的陣列，並指定資料型態為浮點數\n",
        "np.full((2,3), 5, dtype=float)"
      ],
      "metadata": {
        "colab": {
          "base_uri": "https://localhost:8080/"
        },
        "id": "5oo91D9ekQW4",
        "outputId": "8b006c3f-81a4-4fbf-b1a2-c811326a344f"
      },
      "execution_count": null,
      "outputs": [
        {
          "output_type": "execute_result",
          "data": {
            "text/plain": [
              "array([[5., 5., 5.],\n",
              "       [5., 5., 5.]])"
            ]
          },
          "metadata": {},
          "execution_count": 16
        }
      ]
    },
    {
      "cell_type": "code",
      "source": [
        "# 建立單元矩陣\n",
        "np.identity(3)"
      ],
      "metadata": {
        "colab": {
          "base_uri": "https://localhost:8080/"
        },
        "id": "UjRwvC_iU_1s",
        "outputId": "53653498-2d61-40bc-d1bc-fa051d033fbd"
      },
      "execution_count": null,
      "outputs": [
        {
          "output_type": "execute_result",
          "data": {
            "text/plain": [
              "array([[1., 0., 0.],\n",
              "       [0., 1., 0.],\n",
              "       [0., 0., 1.]])"
            ]
          },
          "metadata": {},
          "execution_count": 17
        }
      ]
    },
    {
      "cell_type": "code",
      "source": [
        "# 建立對角線為1的矩陣\n",
        "np.eye(4,3)"
      ],
      "metadata": {
        "colab": {
          "base_uri": "https://localhost:8080/"
        },
        "id": "1r3IkOV6i4Hn",
        "outputId": "d27d5738-fd82-4d18-f300-510868ed993e"
      },
      "execution_count": null,
      "outputs": [
        {
          "output_type": "execute_result",
          "data": {
            "text/plain": [
              "array([[1., 0., 0.],\n",
              "       [0., 1., 0.],\n",
              "       [0., 0., 1.],\n",
              "       [0., 0., 0.]])"
            ]
          },
          "metadata": {},
          "execution_count": 18
        }
      ]
    },
    {
      "cell_type": "code",
      "source": [
        "# 建立0~1間亂數的一維矩陣\n",
        "np.random.random(3)"
      ],
      "metadata": {
        "colab": {
          "base_uri": "https://localhost:8080/"
        },
        "id": "iEj9WmQ-WP2r",
        "outputId": "ac045dd7-1b05-4f5d-e575-6c562ed23620"
      },
      "execution_count": null,
      "outputs": [
        {
          "output_type": "execute_result",
          "data": {
            "text/plain": [
              "array([0.00400001, 0.97965526, 0.46120212])"
            ]
          },
          "metadata": {},
          "execution_count": 19
        }
      ]
    },
    {
      "cell_type": "code",
      "source": [
        "# 建立0~1間標準正態分布的一維矩陣\n",
        "np.random.randn(3)"
      ],
      "metadata": {
        "colab": {
          "base_uri": "https://localhost:8080/"
        },
        "id": "xF24nfgWWl5r",
        "outputId": "071e9e16-6670-4c3a-e954-c4582a5182a8"
      },
      "execution_count": null,
      "outputs": [
        {
          "output_type": "execute_result",
          "data": {
            "text/plain": [
              "array([ 1.44172611, -0.9157707 ,  1.09167377])"
            ]
          },
          "metadata": {},
          "execution_count": 20
        }
      ]
    },
    {
      "cell_type": "code",
      "source": [
        "# 建立平均值0、標準差1的正態分布一維矩陣(3個元素)\n",
        "np.random.normal(loc=0, scale=1, size=3)"
      ],
      "metadata": {
        "colab": {
          "base_uri": "https://localhost:8080/"
        },
        "id": "LZZd8wteWsqp",
        "outputId": "5ef4c784-91fd-4d91-efa6-a30961a77368"
      },
      "execution_count": null,
      "outputs": [
        {
          "output_type": "execute_result",
          "data": {
            "text/plain": [
              "array([-1.24273704, -0.54442843,  0.04156214])"
            ]
          },
          "metadata": {},
          "execution_count": 21
        }
      ]
    },
    {
      "cell_type": "markdown",
      "source": [
        "### 陣列的索引、維度轉換及排序 "
      ],
      "metadata": {
        "id": "wJQ0HOuqhMNf"
      }
    },
    {
      "cell_type": "code",
      "source": [
        "# 建立1~10(不包含10)，間隔為1的陣列，並轉成3X3的矩陣\n",
        "np.arange(1, 10).reshape(3, 3)"
      ],
      "metadata": {
        "colab": {
          "base_uri": "https://localhost:8080/"
        },
        "id": "lDv1mb4tBi1-",
        "outputId": "4bc3e657-e9c0-47c0-9109-743638a7adcc"
      },
      "execution_count": null,
      "outputs": [
        {
          "output_type": "execute_result",
          "data": {
            "text/plain": [
              "array([[1, 2, 3],\n",
              "       [4, 5, 6],\n",
              "       [7, 8, 9]])"
            ]
          },
          "metadata": {},
          "execution_count": 22
        }
      ]
    },
    {
      "cell_type": "code",
      "source": [
        "# 選取矩陣中的某一列(第1列)\n",
        "tmp[:, 1]"
      ],
      "metadata": {
        "colab": {
          "base_uri": "https://localhost:8080/"
        },
        "id": "KcTE1tu5XLZz",
        "outputId": "5243d98e-dfaf-4014-822f-a4a0ac7ac1a9"
      },
      "execution_count": null,
      "outputs": [
        {
          "output_type": "execute_result",
          "data": {
            "text/plain": [
              "array([2, 5])"
            ]
          },
          "metadata": {},
          "execution_count": 23
        }
      ]
    },
    {
      "cell_type": "code",
      "source": [
        "# 選取矩陣中的多列(第0、1列)\n",
        "tmp[:, [0, 1]]"
      ],
      "metadata": {
        "colab": {
          "base_uri": "https://localhost:8080/"
        },
        "id": "acnt6U-86Ga_",
        "outputId": "9646f037-bae9-4d85-eb8a-cf4c6e03bc71"
      },
      "execution_count": null,
      "outputs": [
        {
          "output_type": "execute_result",
          "data": {
            "text/plain": [
              "array([[1, 2],\n",
              "       [4, 5]])"
            ]
          },
          "metadata": {},
          "execution_count": 24
        }
      ]
    },
    {
      "cell_type": "code",
      "source": [
        "# 選取矩陣中的某一行(第1行)\n",
        "tmp[1, :]"
      ],
      "metadata": {
        "colab": {
          "base_uri": "https://localhost:8080/"
        },
        "id": "se0yHeCL6U4E",
        "outputId": "3186de35-68fa-4b22-a5a1-8e70bb9df0ba"
      },
      "execution_count": null,
      "outputs": [
        {
          "output_type": "execute_result",
          "data": {
            "text/plain": [
              "array([4, 5, 6])"
            ]
          },
          "metadata": {},
          "execution_count": 25
        }
      ]
    },
    {
      "cell_type": "code",
      "source": [
        "# 選取矩陣中的多列(第0、1行)\n",
        "tmp[[0, 1], :]"
      ],
      "metadata": {
        "colab": {
          "base_uri": "https://localhost:8080/"
        },
        "id": "TroLkW566iHz",
        "outputId": "5cc01acc-fd0e-4394-f36a-62b9ba73caec"
      },
      "execution_count": null,
      "outputs": [
        {
          "output_type": "execute_result",
          "data": {
            "text/plain": [
              "array([[1, 2, 3],\n",
              "       [4, 5, 6]])"
            ]
          },
          "metadata": {},
          "execution_count": 26
        }
      ]
    },
    {
      "cell_type": "code",
      "source": [
        "# 選取矩陣中的某個元素(第0列 第0行)\n",
        "tmp[0, 0]"
      ],
      "metadata": {
        "colab": {
          "base_uri": "https://localhost:8080/"
        },
        "id": "3fQtzSRV6o5T",
        "outputId": "6745d39c-8553-477b-c041-a417d807fa59"
      },
      "execution_count": null,
      "outputs": [
        {
          "output_type": "execute_result",
          "data": {
            "text/plain": [
              "1"
            ]
          },
          "metadata": {},
          "execution_count": 27
        }
      ]
    },
    {
      "cell_type": "code",
      "source": [
        "# 設定單一條件(大於3的所有元素)\n",
        "tmp[tmp[:]>3]"
      ],
      "metadata": {
        "colab": {
          "base_uri": "https://localhost:8080/"
        },
        "id": "iyXnBD1u62pS",
        "outputId": "ada66f9e-9d1a-4849-e1e8-d14798654931"
      },
      "execution_count": null,
      "outputs": [
        {
          "output_type": "execute_result",
          "data": {
            "text/plain": [
              "array([4, 5, 6])"
            ]
          },
          "metadata": {},
          "execution_count": 28
        }
      ]
    },
    {
      "cell_type": "code",
      "source": [
        "# 設定多種條件(大於3且小於6的所有元素)，可用且&及或|設立\n",
        "tmp[(tmp[:]>3) & (tmp[:]<6)]"
      ],
      "metadata": {
        "colab": {
          "base_uri": "https://localhost:8080/"
        },
        "id": "XqIGrmOe7ENP",
        "outputId": "032558a9-bfa2-446b-8138-8757098b5efd"
      },
      "execution_count": null,
      "outputs": [
        {
          "output_type": "execute_result",
          "data": {
            "text/plain": [
              "array([4, 5])"
            ]
          },
          "metadata": {},
          "execution_count": 29
        }
      ]
    },
    {
      "cell_type": "code",
      "source": [
        "# 將矩陣轉置\n",
        "tmp.T"
      ],
      "metadata": {
        "colab": {
          "base_uri": "https://localhost:8080/"
        },
        "id": "b4vXc7QY7amM",
        "outputId": "574d2c0b-b078-4e71-8610-c6a3688e160d"
      },
      "execution_count": null,
      "outputs": [
        {
          "output_type": "execute_result",
          "data": {
            "text/plain": [
              "array([[1, 4],\n",
              "       [2, 5],\n",
              "       [3, 6]])"
            ]
          },
          "metadata": {},
          "execution_count": 30
        }
      ]
    },
    {
      "cell_type": "code",
      "source": [
        "# 將矩陣轉置\n",
        "np.transpose(tmp)"
      ],
      "metadata": {
        "colab": {
          "base_uri": "https://localhost:8080/"
        },
        "id": "7R9xW42G7owC",
        "outputId": "382ff976-0f99-4ed0-93c6-b3cafd40ba1f"
      },
      "execution_count": null,
      "outputs": [
        {
          "output_type": "execute_result",
          "data": {
            "text/plain": [
              "array([[1, 4],\n",
              "       [2, 5],\n",
              "       [3, 6]])"
            ]
          },
          "metadata": {},
          "execution_count": 31
        }
      ]
    },
    {
      "cell_type": "code",
      "source": [
        "# 將矩陣平鋪展開(傳回的是拷貝的資料，因此若修改的話不會影響到原先的矩陣)\n",
        "tmp.flatten()"
      ],
      "metadata": {
        "colab": {
          "base_uri": "https://localhost:8080/"
        },
        "id": "DgVLxKN57t0P",
        "outputId": "47b549b9-db38-4c53-8d65-70b668417af2"
      },
      "execution_count": null,
      "outputs": [
        {
          "output_type": "execute_result",
          "data": {
            "text/plain": [
              "array([1, 2, 3, 4, 5, 6])"
            ]
          },
          "metadata": {},
          "execution_count": 32
        }
      ]
    },
    {
      "cell_type": "code",
      "source": [
        "# 將矩陣平鋪展開(傳回的是原始的資料，因此若修改的話會影響到原先的矩陣！)\n",
        "tmp.ravel()"
      ],
      "metadata": {
        "colab": {
          "base_uri": "https://localhost:8080/"
        },
        "id": "QMUCQjhj75hN",
        "outputId": "c9b42f1d-88ec-4f35-cb2f-1177029c8e19"
      },
      "execution_count": null,
      "outputs": [
        {
          "output_type": "execute_result",
          "data": {
            "text/plain": [
              "array([1, 2, 3, 4, 5, 6])"
            ]
          },
          "metadata": {},
          "execution_count": 33
        }
      ]
    },
    {
      "cell_type": "code",
      "source": [
        "# 先將tmp的內容重新宣告\n",
        "tmp = [8, 5, 6, 7, 1]\n",
        "# 將tmp的陣列排序(default為升冪)\n",
        "np.sort(tmp)"
      ],
      "metadata": {
        "colab": {
          "base_uri": "https://localhost:8080/"
        },
        "id": "Dpin3W5377_b",
        "outputId": "4e373f3b-651d-4b1d-e1fb-98fe54018a27"
      },
      "execution_count": null,
      "outputs": [
        {
          "output_type": "execute_result",
          "data": {
            "text/plain": [
              "array([1, 5, 6, 7, 8])"
            ]
          },
          "metadata": {},
          "execution_count": 34
        }
      ]
    },
    {
      "cell_type": "code",
      "source": [
        "# 將tmp的陣列排序(default為升冪排列)，並以index代表\n",
        "np.argsort(tmp)"
      ],
      "metadata": {
        "colab": {
          "base_uri": "https://localhost:8080/"
        },
        "id": "Iue4PYEOBpt0",
        "outputId": "a739c6ab-a81e-4245-a935-5322a4a56bb2"
      },
      "execution_count": null,
      "outputs": [
        {
          "output_type": "execute_result",
          "data": {
            "text/plain": [
              "array([4, 1, 2, 3, 0])"
            ]
          },
          "metadata": {},
          "execution_count": 35
        }
      ]
    },
    {
      "cell_type": "markdown",
      "source": [
        "### 陣列的合併"
      ],
      "metadata": {
        "id": "GQEXFxCgHOHx"
      }
    },
    {
      "cell_type": "code",
      "source": [
        "# 先建立欲合併的兩陣列\n",
        "A = np.ones(4).reshape(2, 2)\n",
        "B = np.zeros(4).reshape(2, 2)"
      ],
      "metadata": {
        "id": "luyi-CZQCAbF"
      },
      "execution_count": null,
      "outputs": []
    },
    {
      "cell_type": "code",
      "source": [
        "# 垂直合併\n",
        "np.append(A, B, axis=0)"
      ],
      "metadata": {
        "colab": {
          "base_uri": "https://localhost:8080/"
        },
        "id": "hHvlbl0PJFG8",
        "outputId": "31be8ca7-0519-4cd4-adfb-437f61300c9c"
      },
      "execution_count": null,
      "outputs": [
        {
          "output_type": "execute_result",
          "data": {
            "text/plain": [
              "array([[1., 1.],\n",
              "       [1., 1.],\n",
              "       [0., 0.],\n",
              "       [0., 0.]])"
            ]
          },
          "metadata": {},
          "execution_count": 37
        }
      ]
    },
    {
      "cell_type": "code",
      "source": [
        "# 垂直合併\n",
        "np.concatenate((A, B), axis=0)"
      ],
      "metadata": {
        "colab": {
          "base_uri": "https://localhost:8080/"
        },
        "id": "bOFBoE_mJCxS",
        "outputId": "a18438d6-de72-4d0f-de75-5da2d9db3021"
      },
      "execution_count": null,
      "outputs": [
        {
          "output_type": "execute_result",
          "data": {
            "text/plain": [
              "array([[1., 1.],\n",
              "       [1., 1.],\n",
              "       [0., 0.],\n",
              "       [0., 0.]])"
            ]
          },
          "metadata": {},
          "execution_count": 38
        }
      ]
    },
    {
      "cell_type": "code",
      "source": [
        "# 垂直合併\n",
        "np.vstack((A, B))"
      ],
      "metadata": {
        "colab": {
          "base_uri": "https://localhost:8080/"
        },
        "id": "Bk43459AJO3v",
        "outputId": "3c494a68-d145-422b-92bb-51a25580912f"
      },
      "execution_count": null,
      "outputs": [
        {
          "output_type": "execute_result",
          "data": {
            "text/plain": [
              "array([[1., 1.],\n",
              "       [1., 1.],\n",
              "       [0., 0.],\n",
              "       [0., 0.]])"
            ]
          },
          "metadata": {},
          "execution_count": 39
        }
      ]
    },
    {
      "cell_type": "code",
      "source": [
        "# 水平合併\n",
        "np.append(A, B, axis=1)"
      ],
      "metadata": {
        "colab": {
          "base_uri": "https://localhost:8080/"
        },
        "id": "13vik72mJQyH",
        "outputId": "ff212abb-3789-4ae1-b46b-555c71c2b311"
      },
      "execution_count": null,
      "outputs": [
        {
          "output_type": "execute_result",
          "data": {
            "text/plain": [
              "array([[1., 1., 0., 0.],\n",
              "       [1., 1., 0., 0.]])"
            ]
          },
          "metadata": {},
          "execution_count": 40
        }
      ]
    },
    {
      "cell_type": "code",
      "source": [
        "# 水平合併\n",
        "np.concatenate((A, B), axis=1)"
      ],
      "metadata": {
        "colab": {
          "base_uri": "https://localhost:8080/"
        },
        "id": "0uRZvDchJvP2",
        "outputId": "1909ff2d-dfa7-41ba-8b7e-6eac2a810f93"
      },
      "execution_count": null,
      "outputs": [
        {
          "output_type": "execute_result",
          "data": {
            "text/plain": [
              "array([[1., 1., 0., 0.],\n",
              "       [1., 1., 0., 0.]])"
            ]
          },
          "metadata": {},
          "execution_count": 41
        }
      ]
    },
    {
      "cell_type": "code",
      "source": [
        "# 水平合併\n",
        "np.hstack((A, B))"
      ],
      "metadata": {
        "colab": {
          "base_uri": "https://localhost:8080/"
        },
        "id": "QhzvOWb4Jyr-",
        "outputId": "f8dbd2ea-34c1-4c7b-baae-b9f5926ad85b"
      },
      "execution_count": null,
      "outputs": [
        {
          "output_type": "execute_result",
          "data": {
            "text/plain": [
              "array([[1., 1., 0., 0.],\n",
              "       [1., 1., 0., 0.]])"
            ]
          },
          "metadata": {},
          "execution_count": 42
        }
      ]
    },
    {
      "cell_type": "markdown",
      "source": [
        "### 運算及統計"
      ],
      "metadata": {
        "id": "mvQ4yp98Khlp"
      }
    },
    {
      "cell_type": "code",
      "source": [
        "# 先建立目標的兩陣列(加減乘除皆可運算，此階段跳過不示範)\n",
        "X = np.array([1, 3, 5])\n",
        "Y = np.array([2, 4, 6])"
      ],
      "metadata": {
        "id": "4bn2VkPLJ19o"
      },
      "execution_count": null,
      "outputs": []
    },
    {
      "cell_type": "code",
      "source": [
        "# 內積\n",
        "np.dot(X, Y)"
      ],
      "metadata": {
        "colab": {
          "base_uri": "https://localhost:8080/"
        },
        "id": "Z_BCM3-mL8Rk",
        "outputId": "3611e373-fe3e-4490-cf57-f0be0f593126"
      },
      "execution_count": null,
      "outputs": [
        {
          "output_type": "execute_result",
          "data": {
            "text/plain": [
              "44"
            ]
          },
          "metadata": {},
          "execution_count": 44
        }
      ]
    },
    {
      "cell_type": "code",
      "source": [
        "# 外積\n",
        "np.cross(X, Y)"
      ],
      "metadata": {
        "colab": {
          "base_uri": "https://localhost:8080/"
        },
        "id": "CxhGpGl-MQFA",
        "outputId": "6d21124b-d367-4c8e-b8bd-92feca1d8af8"
      },
      "execution_count": null,
      "outputs": [
        {
          "output_type": "execute_result",
          "data": {
            "text/plain": [
              "array([-2,  4, -2])"
            ]
          },
          "metadata": {},
          "execution_count": 45
        }
      ]
    },
    {
      "cell_type": "code",
      "source": [
        "# 平均值、加權平均值\n",
        "np.mean(X)"
      ],
      "metadata": {
        "colab": {
          "base_uri": "https://localhost:8080/"
        },
        "id": "fQQV3Q_EMTvq",
        "outputId": "833d89ff-6dc1-4951-cf1c-a0aba6d68772"
      },
      "execution_count": null,
      "outputs": [
        {
          "output_type": "execute_result",
          "data": {
            "text/plain": [
              "3.0"
            ]
          },
          "metadata": {},
          "execution_count": 46
        }
      ]
    },
    {
      "cell_type": "code",
      "source": [
        "# 平均值、加權平均值\n",
        "np.average(X)"
      ],
      "metadata": {
        "colab": {
          "base_uri": "https://localhost:8080/"
        },
        "id": "jzz7jGQaMnvh",
        "outputId": "d51b7dd4-1498-49e7-9250-4c47e206677f"
      },
      "execution_count": null,
      "outputs": [
        {
          "output_type": "execute_result",
          "data": {
            "text/plain": [
              "3.0"
            ]
          },
          "metadata": {},
          "execution_count": 47
        }
      ]
    },
    {
      "cell_type": "code",
      "source": [
        "# 變異數\n",
        "np.var(X)"
      ],
      "metadata": {
        "colab": {
          "base_uri": "https://localhost:8080/"
        },
        "id": "E6uoB7fCMq3z",
        "outputId": "54f04a2c-fff8-4bbd-bcf9-af8f21fdcb30"
      },
      "execution_count": null,
      "outputs": [
        {
          "output_type": "execute_result",
          "data": {
            "text/plain": [
              "2.6666666666666665"
            ]
          },
          "metadata": {},
          "execution_count": 48
        }
      ]
    },
    {
      "cell_type": "code",
      "source": [
        "# 標準差\n",
        "np.std(X)"
      ],
      "metadata": {
        "colab": {
          "base_uri": "https://localhost:8080/"
        },
        "id": "szxs4Nr8MvsB",
        "outputId": "8bbbaab2-c1e5-4a05-a8f6-5d65c42f2c79"
      },
      "execution_count": null,
      "outputs": [
        {
          "output_type": "execute_result",
          "data": {
            "text/plain": [
              "1.632993161855452"
            ]
          },
          "metadata": {},
          "execution_count": 49
        }
      ]
    },
    {
      "cell_type": "code",
      "source": [
        "# 最小值\n",
        "np.min(X)"
      ],
      "metadata": {
        "colab": {
          "base_uri": "https://localhost:8080/"
        },
        "id": "50Tx3wzhMy_1",
        "outputId": "ffe56bc3-cac2-41c6-c9f1-772c6ba777ee"
      },
      "execution_count": null,
      "outputs": [
        {
          "output_type": "execute_result",
          "data": {
            "text/plain": [
              "1"
            ]
          },
          "metadata": {},
          "execution_count": 50
        }
      ]
    },
    {
      "cell_type": "code",
      "source": [
        "# 最小值的索引\n",
        "np.argmin(X)"
      ],
      "metadata": {
        "colab": {
          "base_uri": "https://localhost:8080/"
        },
        "id": "qdPDuHxUNAUp",
        "outputId": "8d87d4e5-174f-408e-fba8-120146574931"
      },
      "execution_count": null,
      "outputs": [
        {
          "output_type": "execute_result",
          "data": {
            "text/plain": [
              "0"
            ]
          },
          "metadata": {},
          "execution_count": 51
        }
      ]
    },
    {
      "cell_type": "code",
      "source": [
        "# 最大值\n",
        "np.max(X)"
      ],
      "metadata": {
        "colab": {
          "base_uri": "https://localhost:8080/"
        },
        "id": "Pvx4Od6EM5vn",
        "outputId": "7a53181b-5dca-4469-ccb4-92b3103d264a"
      },
      "execution_count": null,
      "outputs": [
        {
          "output_type": "execute_result",
          "data": {
            "text/plain": [
              "5"
            ]
          },
          "metadata": {},
          "execution_count": 52
        }
      ]
    },
    {
      "cell_type": "code",
      "source": [
        "# 最大值的索引\n",
        "np.argmax(X)"
      ],
      "metadata": {
        "colab": {
          "base_uri": "https://localhost:8080/"
        },
        "id": "Ukwe0iBzNEEy",
        "outputId": "8b74b380-1cb2-4ba5-80c5-d69bfb75f105"
      },
      "execution_count": null,
      "outputs": [
        {
          "output_type": "execute_result",
          "data": {
            "text/plain": [
              "2"
            ]
          },
          "metadata": {},
          "execution_count": 53
        }
      ]
    },
    {
      "cell_type": "code",
      "source": [
        "# 全距\n",
        "np.ptp(X)"
      ],
      "metadata": {
        "colab": {
          "base_uri": "https://localhost:8080/"
        },
        "id": "74NLLpfpM93Z",
        "outputId": "dd8bd749-0a1d-4480-e455-e8fcb0fcf722"
      },
      "execution_count": null,
      "outputs": [
        {
          "output_type": "execute_result",
          "data": {
            "text/plain": [
              "4"
            ]
          },
          "metadata": {},
          "execution_count": 54
        }
      ]
    },
    {
      "cell_type": "code",
      "source": [
        "# 百分位距(50分位)\n",
        "np.percentile(X, 50)"
      ],
      "metadata": {
        "colab": {
          "base_uri": "https://localhost:8080/"
        },
        "id": "sHRYpaZxNPLM",
        "outputId": "073cfd62-2d1e-4d9f-bd9a-f308bccae392"
      },
      "execution_count": null,
      "outputs": [
        {
          "output_type": "execute_result",
          "data": {
            "text/plain": [
              "3.0"
            ]
          },
          "metadata": {},
          "execution_count": 55
        }
      ]
    },
    {
      "cell_type": "code",
      "source": [
        "# 中位數\n",
        "np.median(X)"
      ],
      "metadata": {
        "colab": {
          "base_uri": "https://localhost:8080/"
        },
        "id": "PSaZyhzWNbex",
        "outputId": "ebb36e24-8860-426b-9590-7553f0e30627"
      },
      "execution_count": null,
      "outputs": [
        {
          "output_type": "execute_result",
          "data": {
            "text/plain": [
              "3.0"
            ]
          },
          "metadata": {},
          "execution_count": 56
        }
      ]
    },
    {
      "cell_type": "code",
      "source": [
        "# 加總\n",
        "np.sum(X)"
      ],
      "metadata": {
        "colab": {
          "base_uri": "https://localhost:8080/"
        },
        "id": "4okMPEygNpBX",
        "outputId": "18486acb-6b6f-4b4a-d0ba-d23933fc3d6c"
      },
      "execution_count": null,
      "outputs": [
        {
          "output_type": "execute_result",
          "data": {
            "text/plain": [
              "9"
            ]
          },
          "metadata": {},
          "execution_count": 57
        }
      ]
    },
    {
      "cell_type": "markdown",
      "source": [
        "### 矩陣介紹"
      ],
      "metadata": {
        "id": "y_QyHd1a6RSQ"
      }
    },
    {
      "cell_type": "markdown",
      "source": [
        "![1_U-y4TND8RhuiTERFNyLyig.png](data:image/png;base64,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)"
      ],
      "metadata": {
        "id": "7zFuCn5g_ySj"
      }
    },
    {
      "cell_type": "markdown",
      "source": [
        "若兩矩陣(x, y)需進行內積運算，x為m×n階矩陣，y就必須為n×p階矩陣，算出的結果則會為m×p階矩陣，不符合此規定的話則無法運算。\n",
        "\n",
        "如下方程式碼所示，x矩陣為2×3階矩陣，x為3×2階矩陣，因此算出的結果為2×2階矩陣。"
      ],
      "metadata": {
        "id": "nNavIvGTBnmb"
      }
    },
    {
      "cell_type": "code",
      "source": [
        "x = np.array([[0, 4, -2],\n",
        "   [-4, -3, 0]])\n",
        "y = np.array([[0, 1],\n",
        "   [1, -1],\n",
        "   [2, 3]])\n",
        "result = np.dot(x, y)\n",
        " \n",
        "print(\"x階數：\" + str(x.shape))\n",
        "print(\"y階數：\" + str(y.shape))\n",
        "print(\"result階數：\" + str(result.shape))\n",
        "print(\"\\nx\\n\", x)\n",
        "print(\"\\ny\\n\", y)\n",
        "print(\"\\nresult\\n\", result)"
      ],
      "metadata": {
        "colab": {
          "base_uri": "https://localhost:8080/"
        },
        "id": "NIOHasfC6Vip",
        "outputId": "c8d70a7a-1b8a-457f-af9f-faf7b468cede"
      },
      "execution_count": null,
      "outputs": [
        {
          "output_type": "stream",
          "name": "stdout",
          "text": [
            "x階數：(2, 3)\n",
            "y階數：(3, 2)\n",
            "result階數：(2, 2)\n",
            "\n",
            "x\n",
            " [[ 0  4 -2]\n",
            " [-4 -3  0]]\n",
            "\n",
            "y\n",
            " [[ 0  1]\n",
            " [ 1 -1]\n",
            " [ 2  3]]\n",
            "\n",
            "result\n",
            " [[  0 -10]\n",
            " [ -3  -1]]\n"
          ]
        }
      ]
    },
    {
      "cell_type": "markdown",
      "source": [
        "x為2×3階矩陣，y也為2×3階矩陣，因此不符合此規定，無法運算。"
      ],
      "metadata": {
        "id": "dgTBYgLctguS"
      }
    },
    {
      "cell_type": "code",
      "source": [
        "x = np.array([[0, 4, -2],\n",
        "   [-4, -3, 0]])\n",
        "y = x\n",
        "result = np.dot(x, y)\n",
        " \n",
        "print(\"x階數：\" + str(x.shape))\n",
        "print(\"y階數：\" + str(y.shape))\n",
        "print(\"result階數：\" + str(result.shape))\n",
        "print(\"\\nx\\n\", x)\n",
        "print(\"\\ny\\n\", y)\n",
        "print(\"\\nresult\\n\", result)"
      ],
      "metadata": {
        "colab": {
          "base_uri": "https://localhost:8080/",
          "height": 280
        },
        "id": "45A67FN4tV-6",
        "outputId": "d3be7de5-64d7-4aeb-fab6-bfc991d362f5"
      },
      "execution_count": null,
      "outputs": [
        {
          "output_type": "error",
          "ename": "ValueError",
          "evalue": "ignored",
          "traceback": [
            "\u001b[0;31m---------------------------------------------------------------------------\u001b[0m",
            "\u001b[0;31mValueError\u001b[0m                                Traceback (most recent call last)",
            "\u001b[0;32m<ipython-input-74-478bf73e7fd9>\u001b[0m in \u001b[0;36m<module>\u001b[0;34m()\u001b[0m\n\u001b[1;32m      2\u001b[0m    [-4, -3, 0]])\n\u001b[1;32m      3\u001b[0m \u001b[0my\u001b[0m \u001b[0;34m=\u001b[0m \u001b[0mx\u001b[0m\u001b[0;34m\u001b[0m\u001b[0;34m\u001b[0m\u001b[0m\n\u001b[0;32m----> 4\u001b[0;31m \u001b[0mresult\u001b[0m \u001b[0;34m=\u001b[0m \u001b[0mnp\u001b[0m\u001b[0;34m.\u001b[0m\u001b[0mdot\u001b[0m\u001b[0;34m(\u001b[0m\u001b[0mx\u001b[0m\u001b[0;34m,\u001b[0m \u001b[0my\u001b[0m\u001b[0;34m)\u001b[0m\u001b[0;34m\u001b[0m\u001b[0;34m\u001b[0m\u001b[0m\n\u001b[0m\u001b[1;32m      5\u001b[0m \u001b[0;34m\u001b[0m\u001b[0m\n\u001b[1;32m      6\u001b[0m \u001b[0mprint\u001b[0m\u001b[0;34m(\u001b[0m\u001b[0;34m\"x階數：\"\u001b[0m \u001b[0;34m+\u001b[0m \u001b[0mstr\u001b[0m\u001b[0;34m(\u001b[0m\u001b[0mx\u001b[0m\u001b[0;34m.\u001b[0m\u001b[0mshape\u001b[0m\u001b[0;34m)\u001b[0m\u001b[0;34m)\u001b[0m\u001b[0;34m\u001b[0m\u001b[0;34m\u001b[0m\u001b[0m\n",
            "\u001b[0;32m<__array_function__ internals>\u001b[0m in \u001b[0;36mdot\u001b[0;34m(*args, **kwargs)\u001b[0m\n",
            "\u001b[0;31mValueError\u001b[0m: shapes (2,3) and (2,3) not aligned: 3 (dim 1) != 2 (dim 0)"
          ]
        }
      ]
    },
    {
      "cell_type": "markdown",
      "source": [
        "x矩陣為3×3階矩陣，y為3×?階矩陣，是可以做運算的。"
      ],
      "metadata": {
        "id": "iETHF3_Pu0p0"
      }
    },
    {
      "cell_type": "code",
      "source": [
        "x = np.array([[0, 4, -2],\n",
        "   [-4, -3, 0],\n",
        "   [0, 4, -2]])\n",
        "y = np.array([1, 2, 3])\n",
        "result = np.dot(x, y)\n",
        " \n",
        "print(\"x階數：\" + str(x.shape))\n",
        "print(\"y階數：\" + str(y.shape))\n",
        "print(\"result階數：\" + str(result.shape))\n",
        "print(\"\\nx\\n\", x)\n",
        "print(\"\\ny\\n\", y)\n",
        "print(\"\\nresult\\n\", result)"
      ],
      "metadata": {
        "colab": {
          "base_uri": "https://localhost:8080/"
        },
        "id": "fehfuZqxwbMS",
        "outputId": "e4198414-e864-4ab2-8988-ff08df0291aa"
      },
      "execution_count": null,
      "outputs": [
        {
          "output_type": "stream",
          "name": "stdout",
          "text": [
            "x階數：(3, 3)\n",
            "y階數：(3,)\n",
            "result階數：(3,)\n",
            "\n",
            "x\n",
            " [[ 0  4 -2]\n",
            " [-4 -3  0]\n",
            " [ 0  4 -2]]\n",
            "\n",
            "y\n",
            " [1 2 3]\n",
            "\n",
            "result\n",
            " [  2 -10   2]\n"
          ]
        }
      ]
    },
    {
      "cell_type": "markdown",
      "source": [
        "x為3×1階矩陣，y也為3×?階矩陣，因此不符合此規定，無法運算。"
      ],
      "metadata": {
        "id": "Wh5GbkfT4llx"
      }
    },
    {
      "cell_type": "code",
      "source": [
        "x = np.array([[0], [4], [-2]])\n",
        "y = np.array([1, 2, 3])\n",
        "result = np.dot(x, y)\n",
        " \n",
        "print(\"x階數：\" + str(x.shape))\n",
        "print(\"y階數：\" + str(y.shape))\n",
        "print(\"result階數：\" + str(result.shape))\n",
        "print(\"\\nx\\n\", x)\n",
        "print(\"\\ny\\n\", y)\n",
        "print(\"\\nresult\\n\", result)"
      ],
      "metadata": {
        "colab": {
          "base_uri": "https://localhost:8080/",
          "height": 280
        },
        "id": "4nTdj--KkkiQ",
        "outputId": "8e266ec2-9c4c-4108-d78f-f54eb5d1d966"
      },
      "execution_count": null,
      "outputs": [
        {
          "output_type": "error",
          "ename": "ValueError",
          "evalue": "ignored",
          "traceback": [
            "\u001b[0;31m---------------------------------------------------------------------------\u001b[0m",
            "\u001b[0;31mValueError\u001b[0m                                Traceback (most recent call last)",
            "\u001b[0;32m<ipython-input-60-21cb8157035f>\u001b[0m in \u001b[0;36m<module>\u001b[0;34m()\u001b[0m\n\u001b[1;32m      1\u001b[0m \u001b[0mx\u001b[0m \u001b[0;34m=\u001b[0m \u001b[0mnp\u001b[0m\u001b[0;34m.\u001b[0m\u001b[0marray\u001b[0m\u001b[0;34m(\u001b[0m\u001b[0;34m[\u001b[0m\u001b[0;34m[\u001b[0m\u001b[0;36m0\u001b[0m\u001b[0;34m]\u001b[0m\u001b[0;34m,\u001b[0m \u001b[0;34m[\u001b[0m\u001b[0;36m4\u001b[0m\u001b[0;34m]\u001b[0m\u001b[0;34m,\u001b[0m \u001b[0;34m[\u001b[0m\u001b[0;34m-\u001b[0m\u001b[0;36m2\u001b[0m\u001b[0;34m]\u001b[0m\u001b[0;34m]\u001b[0m\u001b[0;34m)\u001b[0m\u001b[0;34m\u001b[0m\u001b[0;34m\u001b[0m\u001b[0m\n\u001b[1;32m      2\u001b[0m \u001b[0my\u001b[0m \u001b[0;34m=\u001b[0m \u001b[0mnp\u001b[0m\u001b[0;34m.\u001b[0m\u001b[0marray\u001b[0m\u001b[0;34m(\u001b[0m\u001b[0;34m[\u001b[0m\u001b[0;36m1\u001b[0m\u001b[0;34m,\u001b[0m \u001b[0;36m2\u001b[0m\u001b[0;34m,\u001b[0m \u001b[0;36m3\u001b[0m\u001b[0;34m]\u001b[0m\u001b[0;34m)\u001b[0m\u001b[0;34m\u001b[0m\u001b[0;34m\u001b[0m\u001b[0m\n\u001b[0;32m----> 3\u001b[0;31m \u001b[0mresult\u001b[0m \u001b[0;34m=\u001b[0m \u001b[0mnp\u001b[0m\u001b[0;34m.\u001b[0m\u001b[0mdot\u001b[0m\u001b[0;34m(\u001b[0m\u001b[0mx\u001b[0m\u001b[0;34m,\u001b[0m \u001b[0my\u001b[0m\u001b[0;34m)\u001b[0m\u001b[0;34m\u001b[0m\u001b[0;34m\u001b[0m\u001b[0m\n\u001b[0m\u001b[1;32m      4\u001b[0m \u001b[0;34m\u001b[0m\u001b[0m\n\u001b[1;32m      5\u001b[0m \u001b[0mprint\u001b[0m\u001b[0;34m(\u001b[0m\u001b[0;34m\"x階數：\"\u001b[0m \u001b[0;34m+\u001b[0m \u001b[0mstr\u001b[0m\u001b[0;34m(\u001b[0m\u001b[0mx\u001b[0m\u001b[0;34m.\u001b[0m\u001b[0mshape\u001b[0m\u001b[0;34m)\u001b[0m\u001b[0;34m)\u001b[0m\u001b[0;34m\u001b[0m\u001b[0;34m\u001b[0m\u001b[0m\n",
            "\u001b[0;32m<__array_function__ internals>\u001b[0m in \u001b[0;36mdot\u001b[0;34m(*args, **kwargs)\u001b[0m\n",
            "\u001b[0;31mValueError\u001b[0m: shapes (3,1) and (3,) not aligned: 1 (dim 1) != 3 (dim 0)"
          ]
        }
      ]
    },
    {
      "cell_type": "markdown",
      "source": [
        "x為3×?階矩陣，y矩陣為3×1階矩陣。直觀想法應該要報錯，但np.dot()先將x矩陣轉換了，可以想像成x是?×3階而y仍然是3×1階，因此還是可以做運算。"
      ],
      "metadata": {
        "id": "45ezrMe6klMj"
      }
    },
    {
      "cell_type": "code",
      "source": [
        "x = np.array([1, 2, 3])\n",
        "y = np.array([[0], [4], [-2]])\n",
        "result = np.dot(x, y)\n",
        " \n",
        "print(\"x階數：\" + str(x.shape))\n",
        "print(\"y階數：\" + str(y.shape))\n",
        "print(\"result階數：\" + str(result.shape))\n",
        "print(\"\\nx\\n\", x)\n",
        "print(\"\\ny\\n\", y)\n",
        "print(\"\\nresult\\n\", result)"
      ],
      "metadata": {
        "colab": {
          "base_uri": "https://localhost:8080/"
        },
        "id": "DkJ7b3rY1XG8",
        "outputId": "ac1c539a-3c92-49d5-b6f9-e2c326d8080a"
      },
      "execution_count": null,
      "outputs": [
        {
          "output_type": "stream",
          "name": "stdout",
          "text": [
            "x階數：(3,)\n",
            "y階數：(3, 1)\n",
            "result階數：(1,)\n",
            "\n",
            "x\n",
            " [1 2 3]\n",
            "\n",
            "y\n",
            " [[ 0]\n",
            " [ 4]\n",
            " [-2]]\n",
            "\n",
            "result\n",
            " [2]\n"
          ]
        }
      ]
    },
    {
      "cell_type": "markdown",
      "source": [
        "### 運算效能比較\n",
        "list V.S. array"
      ],
      "metadata": {
        "id": "d_tv4tYRPtxL"
      }
    },
    {
      "cell_type": "code",
      "source": [
        "import time\n",
        "import random\n",
        "a = []\n",
        "for i in range(100000000):\n",
        "    a.append(random.random())\n",
        "\n",
        "%time sum1=sum(a)\n",
        " \n",
        "b=np.array(a)\n",
        " \n",
        "%time sum2=np.sum(b)"
      ],
      "metadata": {
        "colab": {
          "base_uri": "https://localhost:8080/"
        },
        "id": "T2xh3-IBPshX",
        "outputId": "807332ff-473b-479b-e33a-71286c378e87"
      },
      "execution_count": null,
      "outputs": [
        {
          "output_type": "stream",
          "name": "stdout",
          "text": [
            "CPU times: user 710 ms, sys: 1.08 ms, total: 711 ms\n",
            "Wall time: 707 ms\n",
            "CPU times: user 106 ms, sys: 750 µs, total: 107 ms\n",
            "Wall time: 109 ms\n"
          ]
        }
      ]
    }
  ]
}